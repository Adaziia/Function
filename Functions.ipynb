{
  "nbformat": 4,
  "nbformat_minor": 0,
  "metadata": {
    "colab": {
      "provenance": []
    },
    "kernelspec": {
      "name": "python3",
      "display_name": "Python 3"
    },
    "language_info": {
      "name": "python"
    }
  },
  "cells": [
    {
      "cell_type": "markdown",
      "source": [
        "Function(Helper): There are two important expect of function\n",
        "1. defining the function(logic) and\n",
        "2. calling the function\n",
        "Function are of two types:\n",
        "- Built in function (related to family, brothers/sisters/cousin): are already available in python(by defualt)\n",
        "- User define function (related to friends): we will going to create/personally create."
      ],
      "metadata": {
        "id": "NCmQU-C66H_9"
      }
    },
    {
      "cell_type": "markdown",
      "source": [],
      "metadata": {
        "id": "8fiatd585Hmq"
      }
    },
    {
      "cell_type": "markdown",
      "source": [
        "Take two numbers and add them together"
      ],
      "metadata": {
        "id": "zEs6APoU_i5_"
      }
    },
    {
      "cell_type": "code",
      "source": [
        "a=6\n",
        "b=79\n",
        "c=a+b\n",
        "print(c)"
      ],
      "metadata": {
        "colab": {
          "base_uri": "https://localhost:8080/"
        },
        "id": "JyV3U9yT_pR4",
        "outputId": "e4b388b2-5077-4666-bcdf-dd29477d4022"
      },
      "execution_count": null,
      "outputs": [
        {
          "output_type": "stream",
          "name": "stdout",
          "text": [
            "85\n"
          ]
        }
      ]
    },
    {
      "cell_type": "markdown",
      "source": [
        "Create a function which takes two numbers and sum them together."
      ],
      "metadata": {
        "id": "_WwaKe6XDnFH"
      }
    },
    {
      "cell_type": "code",
      "execution_count": null,
      "metadata": {
        "id": "zYKV8OjQ5D6M"
      },
      "outputs": [],
      "source": [
        "def sum(a,b): #def is the keyword/ sum is the name of the function/ (a,b) are refer to as parameters\n",
        "  sum=a+b  # only this is logical part\n",
        "  print(sum)\n",
        "# this is defining the function\n"
      ]
    },
    {
      "cell_type": "code",
      "source": [
        "sum(10,20)  #(10,20) is an arguments / Parameters is the name of the variables when you associate the values to this parameters that is known as arguments.\n"
      ],
      "metadata": {
        "colab": {
          "base_uri": "https://localhost:8080/"
        },
        "id": "ll9g0qaWAWi0",
        "outputId": "86618af0-f6ca-4979-8aeb-44be7262e0a4"
      },
      "execution_count": null,
      "outputs": [
        {
          "output_type": "stream",
          "name": "stdout",
          "text": [
            "30\n"
          ]
        }
      ]
    },
    {
      "cell_type": "code",
      "source": [
        "sum(46,50) # this calling the function"
      ],
      "metadata": {
        "colab": {
          "base_uri": "https://localhost:8080/"
        },
        "id": "DlZPFepmCgVx",
        "outputId": "efc5737d-1a32-4303-9ad4-57d68e414942"
      },
      "execution_count": null,
      "outputs": [
        {
          "output_type": "stream",
          "name": "stdout",
          "text": [
            "96\n"
          ]
        }
      ]
    },
    {
      "cell_type": "markdown",
      "source": [
        "Create a function which takes two numbers and display the addition/substraction/multiplication and division of these two numbers."
      ],
      "metadata": {
        "id": "IY8DlM-hDwt6"
      }
    },
    {
      "cell_type": "markdown",
      "source": [
        "One single function can perform multiples task/ operation"
      ],
      "metadata": {
        "id": "oTqhXGXqDWLy"
      }
    },
    {
      "cell_type": "code",
      "source": [
        "def compute(a,b):\n",
        "  sum=a+b\n",
        "  subs=a-b\n",
        "  mult=a*b\n",
        "  div=a/b\n",
        "  print(sum,subs,mult,div)"
      ],
      "metadata": {
        "id": "-v7ipAskERe2"
      },
      "execution_count": null,
      "outputs": []
    },
    {
      "cell_type": "code",
      "source": [
        "compute(9,9)"
      ],
      "metadata": {
        "colab": {
          "base_uri": "https://localhost:8080/"
        },
        "id": "bjAjmML2E0Ph",
        "outputId": "850e0156-2875-40ea-c540-76f8a6e4a5f5"
      },
      "execution_count": null,
      "outputs": [
        {
          "output_type": "stream",
          "name": "stdout",
          "text": [
            "18 0 81 1.0\n"
          ]
        }
      ]
    },
    {
      "cell_type": "code",
      "source": [
        "compute(100,45)"
      ],
      "metadata": {
        "colab": {
          "base_uri": "https://localhost:8080/"
        },
        "id": "zttQyKXWFKo8",
        "outputId": "d6bfd25f-39e4-4367-8b29-ac77c5e10d65"
      },
      "execution_count": null,
      "outputs": [
        {
          "output_type": "stream",
          "name": "stdout",
          "text": [
            "145 55 4500 2.2222222222222223\n"
          ]
        }
      ]
    },
    {
      "cell_type": "markdown",
      "source": [
        "Create  a function which display the name, age and city of the candidates"
      ],
      "metadata": {
        "id": "I0gFB-KeKT-o"
      }
    },
    {
      "cell_type": "code",
      "source": [
        "def Employee(Name, Age, City):\n",
        "\n",
        "   print(Name,Age,City)\n"
      ],
      "metadata": {
        "id": "QSIqfycMKcXw"
      },
      "execution_count": null,
      "outputs": []
    },
    {
      "cell_type": "code",
      "source": [
        "Employee('Adaziia',23,'Guwahati')"
      ],
      "metadata": {
        "colab": {
          "base_uri": "https://localhost:8080/"
        },
        "id": "xAkasKDDKr_k",
        "outputId": "26349e75-3122-4155-8720-d7fdcdb34f6b"
      },
      "execution_count": null,
      "outputs": [
        {
          "output_type": "stream",
          "name": "stdout",
          "text": [
            "Adaziia 23 Guwahati\n"
          ]
        }
      ]
    },
    {
      "cell_type": "code",
      "source": [
        "Employee('Rebecca',22,'Arunachal')"
      ],
      "metadata": {
        "colab": {
          "base_uri": "https://localhost:8080/"
        },
        "id": "LB8Re2baOjaw",
        "outputId": "c8e6520c-887e-40b8-a668-248ed639adec"
      },
      "execution_count": null,
      "outputs": [
        {
          "output_type": "stream",
          "name": "stdout",
          "text": [
            "Rebecca 22 Arunachal\n"
          ]
        }
      ]
    }
  ]
}